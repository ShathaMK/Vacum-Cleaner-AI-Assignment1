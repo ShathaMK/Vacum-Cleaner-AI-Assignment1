{
  "nbformat": 4,
  "nbformat_minor": 0,
  "metadata": {
    "colab": {
      "provenance": []
    },
    "kernelspec": {
      "name": "python3",
      "display_name": "Python 3"
    },
    "language_info": {
      "name": "python"
    }
  },
  "cells": [
    {
      "cell_type": "code",
      "execution_count": null,
      "metadata": {
        "colab": {
          "base_uri": "https://localhost:8080/"
        },
        "id": "uAzUHnwwFGhW",
        "outputId": "0c00b1f3-e96b-48ba-f98a-f5fdb842bf7f"
      },
      "outputs": [
        {
          "output_type": "stream",
          "name": "stdout",
          "text": [
            "[['c' 'c' 'c' 'c' 'c' 'c' 'c' 'c' 'c' 'c']\n",
            " ['c' 'c' 'c' 'c' 'c' 'c' 'c' 'c' 'c' 'c']\n",
            " ['c' 'c' 'c' 'c' 'c' 'c' 'c' 'c' 'c' 'c']\n",
            " ['c' 'c' 'c' 'c' 'c' 'c' 'c' 'c' 'c' 'c']\n",
            " ['c' 'c' 'c' 'c' 'c' 'c' 'c' 'c' 'c' 'c']\n",
            " ['c' 'c' 'c' 'c' 'c' 'c' 'c' 'c' 'c' 'c']\n",
            " ['c' 'c' 'c' 'c' 'c' 'c' 'c' 'c' 'c' 'c']\n",
            " ['c' 'c' 'c' 'c' 'c' 'c' 'c' 'c' 'c' 'c']\n",
            " ['c' 'c' 'c' 'c' 'c' 'c' 'c' 'c' 'c' 'c']\n",
            " ['c' 'c' 'c' 'c' 'c' 'c' 'c' 'c' 'c' 'c']]\n"
          ]
        }
      ],
      "source": [
        "class main:\n",
        "  import numpy as np\n",
        "  #part 1 creating the environment\n",
        "  #a clean matrix with no dirt or walls\n",
        "\n",
        "  env = np.full((10,10), \"c\") \n",
        "  print(env)\n",
        "\n",
        "  #total penalty counter\n",
        "  global penalty\n",
        "  penalty = 0\n",
        "  #coordinates of the agent\n",
        "  global x \n",
        "  x = 0\n",
        "  global y \n",
        "  y = 0\n",
        "  "
      ]
    },
    {
      "cell_type": "code",
      "source": [
        "\n",
        "#constructing the walls\n",
        "main.env [0,6]=\"|\"\n",
        "main.env [1,6]=\"|\" \n",
        "main.env [2,6]=\"|\" \n",
        "main.env [7,0]=\"|\"\n",
        "main.env [6,0]=\"|\" \n",
        "main.env [3,5]=\"|\"\n",
        "main.env [9,8]=\"|\" \n",
        "main.env [7,8]=\"|\" \n",
        "print (main.env)"
      ],
      "metadata": {
        "colab": {
          "base_uri": "https://localhost:8080/"
        },
        "id": "i-6RUqlQFoNQ",
        "outputId": "1506fb4d-1b61-4ee2-d6cb-1a48bb12f865"
      },
      "execution_count": null,
      "outputs": [
        {
          "output_type": "stream",
          "name": "stdout",
          "text": [
            "[['c' 'c' 'c' 'c' 'c' 'c' '|' 'c' 'c' 'c']\n",
            " ['c' 'c' 'c' 'c' 'c' 'c' '|' 'c' 'c' 'c']\n",
            " ['c' 'c' 'c' 'c' 'c' 'c' '|' 'c' 'c' 'c']\n",
            " ['c' 'c' 'c' 'c' 'c' '|' 'c' 'c' 'c' 'c']\n",
            " ['c' 'c' 'c' 'c' 'c' 'c' 'c' 'c' 'c' 'c']\n",
            " ['c' 'c' 'c' 'c' 'c' 'c' 'c' 'c' 'c' 'c']\n",
            " ['|' 'c' 'c' 'c' 'c' 'c' 'c' 'c' 'c' 'c']\n",
            " ['|' 'c' 'c' 'c' 'c' 'c' 'c' 'c' '|' 'c']\n",
            " ['c' 'c' 'c' 'c' 'c' 'c' 'c' 'c' 'c' 'c']\n",
            " ['c' 'c' 'c' 'c' 'c' 'c' 'c' 'c' '|' 'c']]\n"
          ]
        }
      ]
    },
    {
      "cell_type": "code",
      "source": [
        "  #input number of dirt\n",
        "  dirtNum = int(input(\"Enter number of dirt: (must be less than 92) \"))"
      ],
      "metadata": {
        "colab": {
          "base_uri": "https://localhost:8080/"
        },
        "id": "_lCefztaFq9A",
        "outputId": "c3c72f55-f33f-41d0-fb0e-7c944446fe1a"
      },
      "execution_count": null,
      "outputs": [
        {
          "name": "stdout",
          "output_type": "stream",
          "text": [
            "Enter number of dirt: (must be less than 92) 5\n"
          ]
        }
      ]
    },
    {
      "cell_type": "code",
      "source": [
        "#place the dirt randomly\n",
        "import random\n",
        "#loop number of dirts\n",
        "i = 0\n",
        "while i < dirtNum:\n",
        "  #get two random indeces\n",
        "  n1 = random. randrange (0,9, 1)\n",
        "  n2 = random. randrange (0,9, 1)\n",
        "  #check if the cell is clean and if it's not a wall\n",
        "  if main.env [n1, n2] == \"c\" and main.env [n1, n2] != \"|\":\n",
        "    main.env [n1, n2] = \"*\"\n",
        "    i += 1\n",
        "tableenv = main.env.copy()\n",
        "  \n",
        "print (main.env)"
      ],
      "metadata": {
        "colab": {
          "base_uri": "https://localhost:8080/"
        },
        "id": "BXhq9jPkFyfy",
        "outputId": "bcd8662e-9da6-4bb9-9361-a2d7a7ed05cc"
      },
      "execution_count": null,
      "outputs": [
        {
          "output_type": "stream",
          "name": "stdout",
          "text": [
            "[['e' 'c' 'c' 'c' 'c' 'c' '|' 'c' 'c' 'c']\n",
            " ['*' 'c' 'c' 'c' 'c' 'c' '|' '*' 'c' 'c']\n",
            " ['c' 'c' '*' 'c' 'c' 'c' '|' 'c' 'c' 'c']\n",
            " ['c' 'c' 'c' 'c' 'e' '|' '*' 'c' 'c' 'c']\n",
            " ['c' 'c' 'c' 'c' 'c' 'c' 'c' 'c' 'e' 'c']\n",
            " ['c' 'c' 'c' 'c' 'c' 'c' 'c' 'c' 'c' 'c']\n",
            " ['|' 'c' 'c' 'c' 'c' '*' 'c' 'c' 'c' 'c']\n",
            " ['|' 'c' 'c' 'c' 'c' 'c' 'c' 'e' '|' 'c']\n",
            " ['c' 'c' 'c' 'c' 'c' 'e' 'c' 'c' 'c' 'c']\n",
            " ['c' 'c' 'c' 'c' 'c' 'c' 'c' 'c' '|' 'c']]\n"
          ]
        }
      ]
    },
    {
      "cell_type": "markdown",
      "source": [
        "*DirArray*=['4','5,'2','2','2','2','4','4','4','5','4','4','4','4','4','2','5','2','2','3','3','2','3','3','5']"
      ],
      "metadata": {
        "id": "BUiCYy6zNfwc"
      }
    },
    {
      "cell_type": "code",
      "source": [
        "\n",
        "#movement actions\n",
        "def moveLeft(x, y, penalty):\n",
        "  if vacuum != '|':\n",
        "    y -= 1\n",
        "    penalty += 1\n",
        "\n",
        "    \n",
        "  #return penalty\n",
        "\n",
        "def moveRight(x, y, penalty):\n",
        "  if vacuum != '|':\n",
        "    y += 1\n",
        "    penalty += 1\n",
        "\n",
        "  #return penalty\n",
        "\n",
        "def moveUp(x, y, penalty):\n",
        "  if vacuum != '|':\n",
        "    x -= 1\n",
        "    penalty += 1\n",
        "  \n",
        "  #return penalty\n",
        "\n",
        "def moveDown(x, y, penalty):\n",
        "  if vacuum != '|':\n",
        "    x += 1\n",
        "    penalty += 1\n",
        "# return penalty\n",
        "\n",
        "#check if dirt is there\n",
        "def isDirty(vacuum):\n",
        "  if vacuum == '*':\n",
        "    return True\n",
        "  else:\n",
        "    return False\n",
        "\n",
        "#clean the dirt\n",
        "def suck(x, y, penalty):\n",
        "\n",
        "  penalty += 5\n",
        "  main.env[x, y] = 'e'\n",
        "  dirtNum-1\n",
        "  #return penalty\n"
      ],
      "metadata": {
        "id": "88_Md5VMF6QE"
      },
      "execution_count": null,
      "outputs": []
    },
    {
      "cell_type": "code",
      "source": [
        "#while dirtNum!= 0:\n",
        "for x in range(10):\n",
        "  for y in range(10):\n",
        "    vacuum = main.env[x,y]\n",
        "    #vacuumLoc = (x,y)\n",
        "    clean = isDirty(vacuum)\n",
        "    if clean == True:\n",
        "        suck(x, y, penalty)\n",
        "        penalty += 5\n",
        "        \n",
        "    elif vacuum==\"c\" :\n",
        "        moveRight(x, y, penalty)\n",
        "    elif vacuum==\"|\" :\n",
        "      mylist=[1,2,3,4]\n",
        "      ranmdomNum=random.choice(mylist)\n",
        "      if ranmdomNum==1 :\n",
        "          moveLeft(x, y, penalty)\n",
        "      elif ranmdomNum==2:\n",
        "          moveRight(x, y, penalty)\n",
        "      elif ranmdomNum==3:\n",
        "          moveUp(x, y, penalty) \n",
        "      elif ranmdomNum==4:\n",
        "          moveDown(x, y, penalty)\n",
        "        \n",
        "print(main.env)\n",
        "#print total penalty\n",
        "print(\"Total Penalty is for Simple reflex :\",penalty)\n"
      ],
      "metadata": {
        "colab": {
          "base_uri": "https://localhost:8080/"
        },
        "id": "2EFnygHOHJXh",
        "outputId": "04e1902e-c426-4330-a9fa-3e7a482ef920"
      },
      "execution_count": null,
      "outputs": [
        {
          "output_type": "stream",
          "name": "stdout",
          "text": [
            "[['e' 'c' 'c' 'c' 'c' 'c' '|' 'c' 'c' 'c']\n",
            " ['e' 'c' 'c' 'c' 'c' 'c' '|' 'e' 'c' 'c']\n",
            " ['c' 'c' 'e' 'c' 'c' 'c' '|' 'c' 'c' 'c']\n",
            " ['c' 'c' 'c' 'c' 'e' '|' 'e' 'c' 'c' 'c']\n",
            " ['c' 'c' 'c' 'c' 'c' 'c' 'c' 'c' 'e' 'c']\n",
            " ['c' 'c' 'c' 'c' 'c' 'c' 'c' 'c' 'c' 'c']\n",
            " ['|' 'c' 'c' 'c' 'c' 'e' 'c' 'c' 'c' 'c']\n",
            " ['|' 'c' 'c' 'c' 'c' 'c' 'c' 'e' '|' 'c']\n",
            " ['c' 'c' 'c' 'c' 'c' 'e' 'c' 'c' 'c' 'c']\n",
            " ['c' 'c' 'c' 'c' 'c' 'c' 'c' 'c' '|' 'c']]\n",
            "Total Penalty is for Simple reflex : 145\n"
          ]
        }
      ]
    },
    {
      "cell_type": "code",
      "source": [
        "# Table Driven Agent \n",
        "DirArray=[4,5,2,2,2,2,4,4,4,5,4,4,4,4,4,2,5,2,2,3,3,2,3,3,5]\n",
        "#for-loop to access each index of the direction array\n",
        "for x in range(10):\n",
        "  for y in range(10):\n",
        "    #vacuum = env[x,y]\n",
        "    for d in DirArray :\n",
        "        if DirArray[d]==1:\n",
        "            moveLeft(x, y, penalty)\n",
        "        elif DirArray[d]==2:\n",
        "            moveRight(x,y, penalty)\n",
        "        elif DirArray[d]==3:\n",
        "            moveUp(x, y, penalty) \n",
        "        elif DirArray[d]==4:\n",
        "              moveDown(x, y, penalty)\n",
        "        elif DirArray[d]==5:\n",
        "              suck(x,y, penalty)\n",
        "\n",
        "\n",
        "print (main.env)\n",
        "print(penalty)"
      ],
      "metadata": {
        "id": "oAFDqhSSLDBo",
        "colab": {
          "base_uri": "https://localhost:8080/"
        },
        "outputId": "44051490-1be1-4351-a1bd-7d640af85e16"
      },
      "execution_count": null,
      "outputs": [
        {
          "output_type": "stream",
          "name": "stdout",
          "text": [
            "[['e' 'c' 'c' 'c' 'c' 'c' '|' 'c' 'c' 'c']\n",
            " ['e' 'c' 'c' 'c' 'c' 'c' '|' 'e' 'c' 'c']\n",
            " ['c' 'c' 'e' 'c' 'c' 'c' '|' 'c' 'c' 'c']\n",
            " ['c' 'c' 'c' 'c' 'e' '|' 'e' 'c' 'c' 'c']\n",
            " ['c' 'c' 'c' 'c' 'c' 'c' 'c' 'c' 'e' 'c']\n",
            " ['c' 'c' 'c' 'c' 'c' 'c' 'c' 'c' 'c' 'c']\n",
            " ['|' 'c' 'c' 'c' 'c' 'e' 'c' 'c' 'c' 'c']\n",
            " ['|' 'c' 'c' 'c' 'c' 'c' 'c' 'e' '|' 'c']\n",
            " ['c' 'c' 'c' 'c' 'c' 'e' 'c' 'c' 'c' 'c']\n",
            " ['c' 'c' 'c' 'c' 'c' 'c' 'c' 'c' '|' 'c']]\n",
            "145\n"
          ]
        }
      ]
    }
  ]
}